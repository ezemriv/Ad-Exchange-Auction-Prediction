{
 "cells": [
  {
   "cell_type": "markdown",
   "metadata": {},
   "source": [
    "# Imports"
   ]
  },
  {
   "cell_type": "code",
   "execution_count": 101,
   "metadata": {},
   "outputs": [],
   "source": [
    "import pandas as pd\n",
    "import numpy as np\n",
    "import polars as pl\n",
    "from polars import StringCache\n",
    "from collections import Counter\n",
    "\n",
    "import matplotlib.pyplot as plt\n",
    "import seaborn as sns\n",
    "\n",
    "import sys\n",
    "import os\n",
    "\n",
    "from sklearn.preprocessing import OrdinalEncoder\n",
    "from sklearn.model_selection import KFold\n",
    "from sklearn.model_selection import cross_val_score\n",
    "from sklearn.metrics import f1_score\n",
    "import lightgbm as lgb\n",
    "\n",
    "# root path\n",
    "ROOT = os.path.abspath(os.path.join(os.getcwd(), '..'))\n",
    "\n",
    "# Add the project root to the Python path\n",
    "if ROOT not in sys.path:\n",
    "    sys.path.append(ROOT)\n",
    "\n",
    "# Import helper functions\n",
    "from src.data_preprocessing.cleaner import PolarsLoader"
   ]
  },
  {
   "cell_type": "code",
   "execution_count": 102,
   "metadata": {},
   "outputs": [],
   "source": [
    "DATA_PATH = os.path.join(ROOT, \"data\")\n",
    "CLEAN_DATA_PATH = os.path.join(DATA_PATH, \"proccessed_data\")\n",
    "\n",
    "TRAIN_FILE = os.path.join(DATA_PATH, \"train_data.csv\")\n",
    "TEST_FILE = os.path.join(DATA_PATH, \"test_data.csv\") "
   ]
  },
  {
   "cell_type": "markdown",
   "metadata": {},
   "source": [
    "# Data Loading"
   ]
  },
  {
   "cell_type": "code",
   "execution_count": 103,
   "metadata": {},
   "outputs": [
    {
     "name": "stdout",
     "output_type": "stream",
     "text": [
      "Train data shape: (1000000, 18)\n",
      "Test data shape: (1000000, 18)\n",
      "Number of categorical columns: 10\n",
      "Number of numerical columns: 7\n",
      "% target distribution in train data: shape: (2, 2)\n",
      "┌────────┬────────────┐\n",
      "│ target ┆ proportion │\n",
      "│ ---    ┆ ---        │\n",
      "│ i16    ┆ f64        │\n",
      "╞════════╪════════════╡\n",
      "│ 1      ┆ 0.028379   │\n",
      "│ 0      ┆ 0.971621   │\n",
      "└────────┴────────────┘\n",
      "**************************************************\n",
      "DATASET IS HIGHLY IMBALANCED\n",
      "**************************************************\n"
     ]
    }
   ],
   "source": [
    "pp = PolarsLoader(sampling=True)\n",
    "pl_train, CAT_COLS, NUM_COLS = pp.initial_preprocessing(TRAIN_FILE)\n",
    "pl_test, _, _ = pp.initial_preprocessing(TEST_FILE)\n",
    "\n",
    "FEATURES = CAT_COLS + NUM_COLS\n",
    "TARGET = 'target'\n",
    "\n",
    "#Print data information\n",
    "print(f\"Train data shape: {pl_train.shape}\")\n",
    "print(f\"Test data shape: {pl_test.shape}\")\n",
    "\n",
    "print(f\"Number of categorical columns: {len(CAT_COLS)}\")\n",
    "print(f\"Number of numerical columns: {len(NUM_COLS)}\")\n",
    "print(f\"% target distribution in train data: {pl_train['target'].value_counts(normalize=True)}\")\n",
    "\n",
    "print(\"*\"*50)\n",
    "print(\"DATASET IS HIGHLY IMBALANCED\")\n",
    "print(\"*\"*50)"
   ]
  },
  {
   "cell_type": "code",
   "execution_count": 104,
   "metadata": {},
   "outputs": [],
   "source": [
    "category_encoder = OrdinalEncoder(\n",
    "        categories='auto', dtype=np.int16, \n",
    "        handle_unknown='use_encoded_value', \n",
    "        unknown_value=-2, encoded_missing_value=-1\n",
    "    )\n",
    "\n",
    "# Fit and transform the category columns\n",
    "train_data_encoded = category_encoder.fit_transform(pl_train.select(CAT_COLS))\n",
    "\n",
    "# Assign the transformed categories back to the Polars DataFrame\n",
    "encoded_columns = [\n",
    "    pl.Series(cat_col, train_data_encoded[:, c]) \n",
    "    for c, cat_col in enumerate(CAT_COLS)\n",
    "]\n",
    "\n",
    "pl_train = pl_train.with_columns(encoded_columns)"
   ]
  },
  {
   "cell_type": "code",
   "execution_count": 105,
   "metadata": {},
   "outputs": [],
   "source": [
    "# Transform the test data with the same encoder\n",
    "test_data_encoded = category_encoder.transform(pl_test.select(CAT_COLS))\n",
    "\n",
    "# Assign the transformed categories back to the Polars test DataFrame\n",
    "encoded_test_columns = [\n",
    "    pl.Series(cat_col, test_data_encoded[:, c]) \n",
    "    for c, cat_col in enumerate(CAT_COLS)\n",
    "]\n",
    "\n",
    "pl_test = pl_test.with_columns(encoded_test_columns)"
   ]
  },
  {
   "cell_type": "code",
   "execution_count": 106,
   "metadata": {},
   "outputs": [],
   "source": [
    "# Cast all the CAT_COLS back to categorical in both pl_train and pl_test\n",
    "pl_train = pl_train.with_columns([\n",
    "    pl.col(col).cast(pl.String).cast(pl.Categorical) for col in CAT_COLS\n",
    "])\n",
    "\n",
    "pl_test = pl_test.with_columns([\n",
    "    pl.col(col).cast(pl.String).cast(pl.Categorical) for col in CAT_COLS\n",
    "])"
   ]
  },
  {
   "cell_type": "markdown",
   "metadata": {},
   "source": [
    "# Baseline LightGBM model training"
   ]
  },
  {
   "cell_type": "code",
   "execution_count": 107,
   "metadata": {},
   "outputs": [],
   "source": [
    "def downsample_data_pl(df: pl.DataFrame, neg_ratio: float = None, is_train: bool = True) -> pl.DataFrame:\n",
    "        \n",
    "    if is_train:\n",
    "        # Extract the counts of positive and negative cases\n",
    "        p_cases = df.filter(pl.col('target') == 1)\n",
    "        n_cases = df.filter(pl.col('target') == 0)\n",
    "\n",
    "        # If neg_ratio is None use all negative samples\n",
    "        if neg_ratio is not None:\n",
    "            N = int(p_cases.height * neg_ratio)\n",
    "            n_cases = n_cases.sample(n=N, seed=23)\n",
    "        \n",
    "        # Concatenar los casos negativos y positivos\n",
    "        df = pl.concat([n_cases, p_cases])\n",
    "        \n",
    "    return df"
   ]
  },
  {
   "cell_type": "code",
   "execution_count": 108,
   "metadata": {},
   "outputs": [
    {
     "name": "stdout",
     "output_type": "stream",
     "text": [
      "(1000000, 18)\n",
      "Original target distribution: shape: (2, 2)\n",
      "┌────────┬────────────┐\n",
      "│ target ┆ proportion │\n",
      "│ ---    ┆ ---        │\n",
      "│ i16    ┆ f64        │\n",
      "╞════════╪════════════╡\n",
      "│ 1      ┆ 0.028379   │\n",
      "│ 0      ┆ 0.971621   │\n",
      "└────────┴────────────┘\n",
      "**************************************************\n",
      "(312169, 18)\n",
      "New target distribution: shape: (2, 2)\n",
      "┌────────┬────────────┐\n",
      "│ target ┆ proportion │\n",
      "│ ---    ┆ ---        │\n",
      "│ i16    ┆ f64        │\n",
      "╞════════╪════════════╡\n",
      "│ 1      ┆ 0.090909   │\n",
      "│ 0      ┆ 0.909091   │\n",
      "└────────┴────────────┘\n"
     ]
    }
   ],
   "source": [
    "print(pl_train.shape)\n",
    "print(f\"Original target distribution: {pl_train['target'].value_counts(normalize=True)}\")\n",
    "\n",
    "pl_train_down = downsample_data_pl(pl_train, neg_ratio=10, is_train=True)\n",
    "\n",
    "print(\"*\"*50)\n",
    "print(pl_train_down.shape)\n",
    "print(f\"New target distribution: {pl_train_down['target'].value_counts(normalize=True)}\")"
   ]
  },
  {
   "cell_type": "code",
   "execution_count": 109,
   "metadata": {},
   "outputs": [],
   "source": [
    "train = pl_train.to_pandas()\n",
    "test = pl_test.to_pandas()"
   ]
  },
  {
   "cell_type": "markdown",
   "metadata": {},
   "source": [
    "# Crossvalidation"
   ]
  },
  {
   "cell_type": "code",
   "execution_count": 110,
   "metadata": {},
   "outputs": [],
   "source": [
    "lgb_params = {\n",
    "    'objective': 'binary',\n",
    "    'metric': 'f1',\n",
    "    'verbose': -1\n",
    "}"
   ]
  },
  {
   "cell_type": "code",
   "execution_count": 111,
   "metadata": {},
   "outputs": [
    {
     "name": "stdout",
     "output_type": "stream",
     "text": [
      "Folds Train F1 scores: [0.47903345 0.47619615 0.47287701 0.47875438 0.47329749]\n",
      "Folds Validation F1 scores: [0.46306716 0.45584385 0.45642365 0.44658325 0.4631678 ]\n",
      "**************************************************\n",
      "Mean Train F1 score: 0.47603169553239316\n",
      "Mean Validation F1 score: 0.45701714357167383\n"
     ]
    }
   ],
   "source": [
    "from sklearn.model_selection import cross_validate\n",
    "\n",
    "X = train[FEATURES]\n",
    "y = train[TARGET]\n",
    "\n",
    "model = lgb.LGBMClassifier(**lgb_params)\n",
    "\n",
    "cv = KFold(5, shuffle=True, random_state=23)\n",
    "\n",
    "results = cross_validate(\n",
    "    estimator=model,\n",
    "    X=X, y=y,\n",
    "    cv=cv,\n",
    "    scoring='f1',\n",
    "    return_train_score=True\n",
    ")\n",
    "\n",
    "# Print F1 scores for both train and validation\n",
    "print(f\"Folds Train F1 scores: {results['train_score']}\")\n",
    "print(f\"Folds Validation F1 scores: {results['test_score']}\")\n",
    "\n",
    "# Print mean F1 scores\n",
    "print(\"*\"*50)\n",
    "print(f\"Mean Train F1 score: {np.mean(results['train_score'])}\")\n",
    "print(f\"Mean Validation F1 score: {np.mean(results['test_score'])}\")"
   ]
  },
  {
   "cell_type": "code",
   "execution_count": 112,
   "metadata": {},
   "outputs": [
    {
     "data": {
      "image/png": "[encoded data removed]",
      "text/plain": [
       "<Figure size 640x480 with 1 Axes>"
      ]
     },
     "metadata": {},
     "output_type": "display_data"
    }
   ],
   "source": [
    "# Get train and validation F1 scores\n",
    "train_scores = results['train_score']\n",
    "valid_scores = results['test_score']\n",
    "\n",
    "# Plot\n",
    "plt.plot(range(1, len(train_scores) + 1), train_scores, marker='o', label='Train F1 Score', linestyle='-')\n",
    "plt.plot(range(1, len(valid_scores) + 1), valid_scores, marker='o', label='Validation F1 Score', linestyle='-')\n",
    "plt.xlabel('Fold')\n",
    "plt.ylabel('F1 Score')\n",
    "plt.title('Train and Validation F1 Scores')\n",
    "plt.legend()\n",
    "plt.show()"
   ]
  },
  {
   "cell_type": "markdown",
   "metadata": {},
   "source": [
    "# Train and predict"
   ]
  },
  {
   "cell_type": "code",
   "execution_count": 113,
   "metadata": {},
   "outputs": [
    {
     "name": "stdout",
     "output_type": "stream",
     "text": [
      "F1 on test data: 0.5638422227567551\n",
      "Improvement over Benchmark: 0.060842222756755104\n"
     ]
    }
   ],
   "source": [
    "BENCHMARK = 0.503\n",
    "\n",
    "model.fit(X, y)\n",
    "\n",
    "predictions = model.predict(test[FEATURES])\n",
    "test_f1 = f1_score(test[TARGET], predictions)"
   ]
  },
  {
   "cell_type": "code",
   "execution_count": 114,
   "metadata": {},
   "outputs": [
    {
     "name": "stdout",
     "output_type": "stream",
     "text": [
      "F1 on test data: 0.5638422227567551\n",
      "Improvement over Benchmark: 12.1%\n"
     ]
    }
   ],
   "source": [
    "print(f\"F1 on test data: {test_f1}\")\n",
    "print(f\"Improvement over Benchmark: {round(100*((test_f1/BENCHMARK)-1),2)}%\")"
   ]
  }
 ],
 "metadata": {
  "kernelspec": {
   "display_name": "ad_exchange_pred",
   "language": "python",
   "name": "python3"
  },
  "language_info": {
   "codemirror_mode": {
    "name": "ipython",
    "version": 3
   },
   "file_extension": ".py",
   "mimetype": "text/x-python",
   "name": "python",
   "nbconvert_exporter": "python",
   "pygments_lexer": "ipython3",
   "version": "3.9.20"
  }
 },
 "nbformat": 4,
 "nbformat_minor": 2
}
