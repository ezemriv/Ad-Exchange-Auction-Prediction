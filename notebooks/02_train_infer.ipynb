{
 "cells": [
  {
   "cell_type": "markdown",
   "metadata": {},
   "source": [
    "# Imports"
   ]
  },
  {
   "cell_type": "code",
   "execution_count": 1,
   "metadata": {},
   "outputs": [],
   "source": [
    "import pandas as pd\n",
    "import numpy as np\n",
    "import polars as pl\n",
    "import polars as pl\n",
    "pl.enable_string_cache()\n",
    "\n",
    "from collections import Counter\n",
    "\n",
    "import matplotlib.pyplot as plt\n",
    "import seaborn as sns\n",
    "\n",
    "import sys\n",
    "import os\n",
    "import yaml\n",
    "\n",
    "from sklearn.preprocessing import OrdinalEncoder\n",
    "from sklearn.model_selection import KFold\n",
    "from sklearn.model_selection import cross_validate\n",
    "from sklearn.metrics import f1_score\n",
    "import lightgbm as lgb\n",
    "\n",
    "from imblearn.pipeline import Pipeline\n",
    "from imblearn.over_sampling import RandomOverSampler\n",
    "\n",
    "import optuna\n",
    "import time\n",
    "\n",
    "# root path\n",
    "ROOT = os.path.abspath(os.path.join(os.getcwd(), '..'))\n",
    "\n",
    "# Add the project root to the Python path\n",
    "if ROOT not in sys.path:\n",
    "    sys.path.append(ROOT)\n",
    "\n",
    "# Import helper functions\n",
    "from src.data_preprocessing.cleaner import PolarsLoader\n",
    "from src.data_preprocessing.feature_engineering import FeatureEngineering"
   ]
  },
  {
   "cell_type": "code",
   "execution_count": 2,
   "metadata": {},
   "outputs": [],
   "source": [
    "DATA_PATH = os.path.join(ROOT, \"data\")\n",
    "\n",
    "TRAIN_FILE = os.path.join(DATA_PATH, \"train_data.csv\")\n",
    "TEST_FILE = os.path.join(DATA_PATH, \"test_data.csv\") "
   ]
  },
  {
   "cell_type": "markdown",
   "metadata": {},
   "source": [
    "# Data Loading"
   ]
  },
  {
   "cell_type": "code",
   "execution_count": 3,
   "metadata": {},
   "outputs": [],
   "source": [
    "NEG_RATIO = 5\n",
    "\n",
    "# Total amount of positive samples\n",
    "# 802_061\n",
    "\n",
    "# Total amount of negative samples\n",
    "# 8_020_610\n",
    "\n",
    "# Initial negative ratio\n",
    "# 10"
   ]
  },
  {
   "cell_type": "code",
   "execution_count": 4,
   "metadata": {},
   "outputs": [
    {
     "name": "stdout",
     "output_type": "stream",
     "text": [
      "Train data shape: (170274, 18)\n",
      "Test data shape: (1000000, 18)\n",
      "--------------------------------------------------\n",
      "Number of categorical columns: 10\n",
      "Number of numerical columns: 7\n",
      "--------------------------------------------------\n",
      "% target distribution in train data after downsampling:\n",
      " shape: (2, 2)\n",
      "┌────────┬────────────┐\n",
      "│ target ┆ proportion │\n",
      "│ ---    ┆ ---        │\n",
      "│ i16    ┆ f64        │\n",
      "╞════════╪════════════╡\n",
      "│ 0      ┆ 0.833333   │\n",
      "│ 1      ┆ 0.166667   │\n",
      "└────────┴────────────┘\n"
     ]
    }
   ],
   "source": [
    "pp = PolarsLoader(sampling=True)\n",
    "pl_train, CAT_COLS, NUM_COLS = pp.initial_preprocessing(TRAIN_FILE, is_train=True, neg_ratio=NEG_RATIO)\n",
    "pl_test, _, _ = pp.initial_preprocessing(TEST_FILE, is_train=False)\n",
    "\n",
    "FEATURES = CAT_COLS + NUM_COLS\n",
    "TARGET = 'target'\n",
    "\n",
    "#Print data information\n",
    "print(f\"Train data shape: {pl_train.shape}\")\n",
    "print(f\"Test data shape: {pl_test.shape}\")\n",
    "print(\"-\"*50)\n",
    "\n",
    "print(f\"Number of categorical columns: {len(CAT_COLS)}\")\n",
    "print(f\"Number of numerical columns: {len(NUM_COLS)}\")\n",
    "print(\"-\"*50)\n",
    "\n",
    "print(f\"% target distribution in train data after downsampling:\\n {pl_train['target'].value_counts(normalize=True)}\")"
   ]
  },
  {
   "cell_type": "markdown",
   "metadata": {},
   "source": [
    "# Feature Engineering"
   ]
  },
  {
   "cell_type": "code",
   "execution_count": 5,
   "metadata": {},
   "outputs": [],
   "source": [
    "fe = FeatureEngineering()\n",
    "\n",
    "train, NEW_COLS = fe.proccess(pl_train, CAT_COLS, is_train=True)\n",
    "test, _ = fe.proccess(pl_test, CAT_COLS, is_train=False)\n",
    "\n",
    "FEATURES += NEW_COLS"
   ]
  },
  {
   "cell_type": "markdown",
   "metadata": {},
   "source": [
    "## Testing over sampling"
   ]
  },
  {
   "cell_type": "code",
   "execution_count": 55,
   "metadata": {},
   "outputs": [],
   "source": [
    "# # Create a pipeline with only the oversampler\n",
    "# UP_RATIO = (NEG_RATIO/100) + 0.1\n",
    "\n",
    "# RO = RandomOverSampler(sampling_strategy=UP_RATIO)\n",
    "\n",
    "# X = train[FEATURES]\n",
    "# y = train[TARGET]\n",
    "\n",
    "# # Apply the oversampling to your data\n",
    "# X_resampled, y_resampled = RO.fit_resample(X, y)\n",
    "\n",
    "# # Check the final shape of the resampled data\n",
    "# print(f\"Initial X shape: {X.shape}\")\n",
    "# print(f\"Resampled X shape: {X_resampled.shape}\")\n",
    "\n",
    "# # Check the target count before and after resampling\n",
    "# target_before = Counter(y)\n",
    "# print(f\"Target distribution before oversampling: {target_before}\")\n",
    "\n",
    "# target_after = Counter(y_resampled)\n",
    "# print(f\"Target distribution after oversampling: {target_after}\")"
   ]
  },
  {
   "cell_type": "markdown",
   "metadata": {},
   "source": [
    "# Model training"
   ]
  },
  {
   "cell_type": "markdown",
   "metadata": {},
   "source": [
    "# Crossvalidation"
   ]
  },
  {
   "cell_type": "code",
   "execution_count": 15,
   "metadata": {},
   "outputs": [],
   "source": [
    "lgb_params = {\n",
    "    'objective': 'binary',\n",
    "    'metric': 'f1',\n",
    "    'verbose': -1,\n",
    "    'random_state': 23,\n",
    "    'boosting_type':  'gbdt',\n",
    "    'n_estimators': 200,\n",
    "}"
   ]
  },
  {
   "cell_type": "code",
   "execution_count": 16,
   "metadata": {},
   "outputs": [
    {
     "name": "stdout",
     "output_type": "stream",
     "text": [
      "UP_RATIO: 0.075\n"
     ]
    }
   ],
   "source": [
    "multiplier = 1.5\n",
    "\n",
    "UP_RATIO = round((NEG_RATIO/100) * multiplier, 5)\n",
    "print(f\"UP_RATIO: {UP_RATIO}\")\n",
    "\n",
    "estimator = Pipeline([\n",
    "    # ('over_sampler', RandomOverSampler(sampling_strategy=UP_RATIO)),     \n",
    "    ('classifier', lgb.LGBMClassifier(**lgb_params)),\n",
    "])"
   ]
  },
  {
   "cell_type": "code",
   "execution_count": 17,
   "metadata": {},
   "outputs": [
    {
     "name": "stdout",
     "output_type": "stream",
     "text": [
      "Folds Train F1 scores: [0.72065583 0.72083091 0.72090365 0.72116506 0.72099881]\n",
      "Folds Validation F1 scores: [0.71829718 0.71952835 0.7192114  0.71812244 0.71765562]\n",
      "**************************************************\n",
      "Mean Train F1 score: 0.7209108508146046\n",
      "Mean Validation F1 score: 0.7185630002589082\n"
     ]
    }
   ],
   "source": [
    "X = train[FEATURES]\n",
    "y = train[TARGET]\n",
    "\n",
    "cv = KFold(5, shuffle=True, random_state=23)\n",
    "\n",
    "results = cross_validate(\n",
    "    estimator=estimator,\n",
    "    X=X, y=y,\n",
    "    cv=cv,\n",
    "    scoring='f1',\n",
    "    return_train_score=True\n",
    ")\n",
    "\n",
    "# Print F1 scores for both train and validation\n",
    "print(f\"Folds Train F1 scores: {results['train_score']}\")\n",
    "print(f\"Folds Validation F1 scores: {results['test_score']}\")\n",
    "\n",
    "# Print mean F1 scores\n",
    "print(\"*\"*50)\n",
    "print(f\"Mean Train F1 score: {np.mean(results['train_score'])}\")\n",
    "print(f\"Mean Validation F1 score: {np.mean(results['test_score'])}\")\n",
    "\n",
    "\n",
    "### CV Scores with train 1M sample ###\n",
    "\n",
    "# Initial\n",
    "#0.470\n",
    "\n",
    "# Undersampling netg_ratio 10\n",
    "#0.620\n",
    "\n",
    "# With randomoversampler\n",
    "#0.645 --> 0.2\n",
    "#0.640 --> 0.15\n",
    "#0.638 --> 0.3\n",
    "\n",
    "### CV Scores with FULL TRAIN ###\n",
    "\n",
    "# Undersampling netg_ratio 5 - no oversampling\n",
    "# Mean Train F1 score: 0.7209108508146046\n",
    "# Mean Validation F1 score: 0.7185630002589082"
   ]
  },
  {
   "cell_type": "code",
   "execution_count": 59,
   "metadata": {},
   "outputs": [
    {
     "data": {
      "image/png": "[encoded data removed]",
      "text/plain": [
       "<Figure size 640x480 with 1 Axes>"
      ]
     },
     "metadata": {},
     "output_type": "display_data"
    }
   ],
   "source": [
    "# Get train and validation F1 scores\n",
    "train_scores = results['train_score']\n",
    "valid_scores = results['test_score']\n",
    "\n",
    "# Plot\n",
    "plt.plot(range(1, len(train_scores) + 1), train_scores, marker='o', label='Train F1 Score', linestyle='-')\n",
    "plt.plot(range(1, len(valid_scores) + 1), valid_scores, marker='o', label='Validation F1 Score', linestyle='-')\n",
    "plt.xlabel('Fold')\n",
    "plt.ylabel('F1 Score')\n",
    "plt.title('Train and Validation F1 Scores')\n",
    "plt.legend()\n",
    "plt.show()"
   ]
  },
  {
   "cell_type": "markdown",
   "metadata": {},
   "source": [
    "# Train and predict"
   ]
  },
  {
   "cell_type": "code",
   "execution_count": 18,
   "metadata": {},
   "outputs": [
    {
     "name": "stdout",
     "output_type": "stream",
     "text": [
      "F1 on test data: 0.619\n",
      "Improvement over Benchmark: 23.02%\n"
     ]
    }
   ],
   "source": [
    "BENCHMARK = 0.503\n",
    "\n",
    "estimator.fit(X, y)\n",
    "\n",
    "predictions = estimator.predict(test[FEATURES])\n",
    "test_f1 = f1_score(test[TARGET], predictions)\n",
    "\n",
    "print(f\"F1 on test data: {round(test_f1, 3)}\")\n",
    "print(f\"Improvement over Benchmark: {round(100*((test_f1/BENCHMARK)-1),2)}%\")\n",
    "\n",
    "\n",
    "### FULL TRAIN ###\n",
    "\n",
    "# Undersampling netg_ratio 5 - no oversampling\n",
    "\n",
    "# F1 on test data: 0.619\n",
    "# Improvement over Benchmark: 23.02%"
   ]
  },
  {
   "cell_type": "markdown",
   "metadata": {},
   "source": [
    "# Feature importance"
   ]
  },
  {
   "cell_type": "code",
   "execution_count": 19,
   "metadata": {},
   "outputs": [],
   "source": [
    "CHECK_FI = True"
   ]
  },
  {
   "cell_type": "code",
   "execution_count": 20,
   "metadata": {},
   "outputs": [
    {
     "data": {
      "image/png": "[encoded data removed]",
      "text/plain": [
       "<Figure size 1000x600 with 1 Axes>"
      ]
     },
     "metadata": {},
     "output_type": "display_data"
    }
   ],
   "source": [
    "if CHECK_FI:\n",
    "\n",
    "    #Create feature importances dataframe\n",
    "    importances = estimator.named_steps['classifier'].feature_importances_\n",
    "    importances_df = pd.DataFrame({\n",
    "        'feature': X.columns,\n",
    "        'importance': importances\n",
    "    }).sort_values(by='importance', ascending=False)\n",
    "\n",
    "    #Plot feature importances\n",
    "    plt.figure(figsize=(10, 6))\n",
    "    sns.barplot(x='importance', y='feature', data=importances_df)\n",
    "    plt.title('Feature Importances')\n",
    "    plt.show()"
   ]
  },
  {
   "cell_type": "markdown",
   "metadata": {},
   "source": [
    "# Hyperparameter tunning"
   ]
  },
  {
   "cell_type": "code",
   "execution_count": 27,
   "metadata": {},
   "outputs": [],
   "source": [
    "DO_TUNING = True"
   ]
  },
  {
   "cell_type": "code",
   "execution_count": 30,
   "metadata": {},
   "outputs": [],
   "source": [
    "def lgb_objective(trial):\n",
    "        \n",
    "    try:\n",
    "        # params = {\n",
    "        #     'objective': 'binary',\n",
    "        #     'metric': 'f1',\n",
    "        #     'verbose': -1,\n",
    "        #     'random_state': 23,\n",
    "        #     'boosting_type':  'gbdt',\n",
    "        #     'n_estimators': 200,\n",
    "        #     'lambda_l2':         trial.suggest_float('lambda_l2', 1e-3, 10.0, log=True),\n",
    "        #     'learning_rate':     trial.suggest_float('learning_rate', 1e-2, 1e-1, log=True),\n",
    "        #     'max_depth':         trial.suggest_int('max_depth', 4, 8),\n",
    "        #     'num_leaves':        trial.suggest_int('num_leaves', 16, 256),\n",
    "        #     'scale_pos_weight' : trial.suggest_float('scale_pos_weight', 0.8, 4.0),\n",
    "        # }\n",
    "\n",
    "        params = {\n",
    "            'objective': 'binary',\n",
    "            'metric': 'f1',\n",
    "            'verbose': -1,\n",
    "            'random_state': 23,\n",
    "            'boosting_type': 'gbdt',\n",
    "            'n_estimators': trial.suggest_int('n_estimators', 100, 1000),\n",
    "            'learning_rate': trial.suggest_float('learning_rate', 0.01, 0.1, log=True),\n",
    "            'max_depth': trial.suggest_int('max_depth', 3, 8),\n",
    "            'min_child_samples': trial.suggest_int('min_child_samples', 100, 500),\n",
    "            'scale_pos_weight': trial.suggest_float('scale_pos_weight', 0.8, 4.0),\n",
    "        }\n",
    "\n",
    "        # multiplier = trial.suggest_float('up_ratio_multiplier', 1.1, 256),\n",
    "        # UP_RATIO = (NEG_RATIO/100) * multiplier\n",
    "\n",
    "        estimator = Pipeline([\n",
    "            # ('over_sampler', RandomOverSampler(sampling_strategy=UP_RATIO)),     \n",
    "            ('classifier', lgb.LGBMClassifier(**params)),\n",
    "        ])\n",
    "\n",
    "        X = train[FEATURES]\n",
    "        y = train[TARGET]\n",
    "\n",
    "        estimator.fit(X, y)\n",
    "\n",
    "        predictions = estimator.predict(test[FEATURES])\n",
    "        test_f1 = f1_score(test[TARGET], predictions)\n",
    "\n",
    "        return test_f1\n",
    "\n",
    "    except ValueError as e:\n",
    "            # Handle known sampling issues\n",
    "            print(f\"Skipping trial due to error: {e}\")\n",
    "            return None  # Optuna will automatically skip this trial"
   ]
  },
  {
   "cell_type": "code",
   "execution_count": 29,
   "metadata": {},
   "outputs": [
    {
     "name": "stderr",
     "output_type": "stream",
     "text": [
      "[I 2024-10-18 12:21:09,970] A new study created in memory with name: no-name-34cccce6-1d2c-4882-9912-c885f1e0485a\n",
      "[I 2024-10-18 12:24:46,379] Trial 0 finished with value: 0.5443890886828628 and parameters: {'n_estimators': 962, 'learning_rate': 0.01608722855535212, 'max_depth': 6, 'min_child_samples': 256, 'scale_pos_weight': 3.1349001410922037}. Best is trial 0 with value: 0.5443890886828628.\n",
      "[I 2024-10-18 12:25:43,726] Trial 1 finished with value: 0.5688026633550021 and parameters: {'n_estimators': 367, 'learning_rate': 0.0984158752656917, 'max_depth': 3, 'min_child_samples': 386, 'scale_pos_weight': 2.0854611661914015}. Best is trial 1 with value: 0.5688026633550021.\n",
      "[I 2024-10-18 12:27:43,742] Trial 2 finished with value: 0.5771803004338096 and parameters: {'n_estimators': 542, 'learning_rate': 0.0182423975875758, 'max_depth': 5, 'min_child_samples': 400, 'scale_pos_weight': 1.7499033862106388}. Best is trial 2 with value: 0.5771803004338096.\n",
      "[I 2024-10-18 12:29:30,636] Trial 3 finished with value: 0.5741127686145813 and parameters: {'n_estimators': 452, 'learning_rate': 0.040842012077219596, 'max_depth': 6, 'min_child_samples': 147, 'scale_pos_weight': 2.1370619348510482}. Best is trial 2 with value: 0.5771803004338096.\n",
      "[I 2024-10-18 12:29:48,787] Trial 4 finished with value: 0.48806660499537463 and parameters: {'n_estimators': 123, 'learning_rate': 0.018188434420485438, 'max_depth': 3, 'min_child_samples': 451, 'scale_pos_weight': 3.210146916353306}. Best is trial 2 with value: 0.5771803004338096.\n",
      "[I 2024-10-18 12:30:41,837] Trial 5 finished with value: 0.5655674980356113 and parameters: {'n_estimators': 244, 'learning_rate': 0.023743215361743075, 'max_depth': 5, 'min_child_samples': 142, 'scale_pos_weight': 1.9944871257046293}. Best is trial 2 with value: 0.5771803004338096.\n",
      "[I 2024-10-18 12:32:38,205] Trial 6 finished with value: 0.5821263264610808 and parameters: {'n_estimators': 463, 'learning_rate': 0.039385423749321274, 'max_depth': 7, 'min_child_samples': 322, 'scale_pos_weight': 1.9049024760673943}. Best is trial 6 with value: 0.5821263264610808.\n",
      "[I 2024-10-18 12:34:19,838] Trial 7 finished with value: 0.5120397243268696 and parameters: {'n_estimators': 848, 'learning_rate': 0.02010141706542366, 'max_depth': 3, 'min_child_samples': 200, 'scale_pos_weight': 3.9228536117336033}. Best is trial 6 with value: 0.5821263264610808.\n"
     ]
    }
   ],
   "source": [
    "if DO_TUNING:\n",
    "    \n",
    "    start_time = time.time()\n",
    "    study_lgb = optuna.create_study(direction='maximize')\n",
    "    study_lgb.optimize(lgb_objective, n_trials=50)\n",
    "    end_time = time.time()\n",
    "    elapsed_time_lgb = end_time - start_time\n",
    "    print(f\"LightGBM tuning took {elapsed_time_lgb:.2f} seconds.\")\n",
    "    print(\"Best LGBM trial:\", study_lgb.best_trial)"
   ]
  }
 ],
 "metadata": {
  "kernelspec": {
   "display_name": "ad_exchange_pred",
   "language": "python",
   "name": "python3"
  },
  "language_info": {
   "codemirror_mode": {
    "name": "ipython",
    "version": 3
   },
   "file_extension": ".py",
   "mimetype": "text/x-python",
   "name": "python",
   "nbconvert_exporter": "python",
   "pygments_lexer": "ipython3",
   "version": "3.9.20"
  }
 },
 "nbformat": 4,
 "nbformat_minor": 2
}
