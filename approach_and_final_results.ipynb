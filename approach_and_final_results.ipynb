{
 "cells": [
  {
   "cell_type": "markdown",
   "metadata": {},
   "source": [
    "# Project Overview\n",
    "\n",
    "This project focuses on building a predictive model for determining the probability of winning a bid in an ad-exchange auction. The goal is to surpass the **baseline F1 score of 0.503** using available features in the dataset, which represent various aspects of the auction process.\n",
    "\n",
    "Given hardware limitations, I aimed to use tools and models that are efficient both in terms of memory and speed:\n",
    "\n",
    "- **Polars**: Used for loading and preprocessing the data due to its high performance, especially with larger datasets.\n",
    "- **LightGBM**: Chosen as the model due to its lightweight nature, efficiency, and ability to handle categorical features, making it ideal for this task.\n",
    "\n",
    "# Project Structure\n",
    "\n",
    "<pre style=\"font-size:14px;\">\n",
    "AD-EXCHANGE-AUCTION-PREDICTION/\n",
    "├── configs/\n",
    "│   ├── config.yaml\n",
    "├── data/\n",
    "│   ├── test_data.csv\n",
    "│   ├── train_data.csv\n",
    "├── models/\n",
    "│   ├── trained_model.pkl\n",
    "├── notebooks/\n",
    "│   ├── 01_eda_clean.ipynb\n",
    "│   ├── 02_train_infer.ipynb\n",
    "├── results/\n",
    "├── src/\n",
    "│   ├── data_preprocessing/\n",
    "│   │   ├── cleaner.py\n",
    "│   │   ├── feature_engineering.py\n",
    "│   ├── utils/\n",
    "│   │   ├── helpers.py\n",
    "├── approach_and_final_results.ipynb\n",
    "├── environment.yml\n",
    "├── hyperparameter_tuning.py\n",
    "├── LICENSE\n",
    "├── main.py\n",
    "├── README.md\n",
    "</pre>\n",
    "\n",
    "This project structure is designed to ensure modularity and readability. While the `main.py` file contains the core logic for training, cross-validation, and inference, separating data cleaning and feature engineering into the `data_preprocessing/` folder makes it easier to manage and modify those processes independently. Additionally, helper functions in `helpers.py` allow for reusable, clean code, improving the overall maintainability of the project.\n"
   ]
  },
  {
   "cell_type": "markdown",
   "metadata": {},
   "source": [
    "This is an example of `main.py` file running on a 1M sample of train data:"
   ]
  },
  {
   "cell_type": "code",
   "execution_count": 2,
   "metadata": {},
   "outputs": [
    {
     "name": "stdout",
     "output_type": "stream",
     "text": [
      "\n",
      "Data processed successfully.\n",
      "--------------------------------------------------\n",
      "Train data shape: (218045, 32)\n",
      "Test data shape: (1000000, 32)\n",
      "Number of features: 31\n",
      "--------------------------------------------------\n",
      "% target distribution in train data after downsampling:\n",
      " target\n",
      "0    0.869848\n",
      "1    0.130152\n",
      "Name: proportion, dtype: float64\n",
      "--------------------------------------------------\n",
      "\n",
      " Moving to model training...\n",
      "No oversampling\n",
      "Skipping cross-validation.\n",
      "\n",
      " Training final model...\n",
      "Training time: 7.24 seconds\n",
      "Final model performance on test data:\n",
      "\n",
      "\n",
      " **************************************************\n",
      "F1 on test data: 0.56926\n",
      "Improvement over Benchmark: 13.17%\n",
      "**************************************************\n",
      "Trained model saved at models/trained_model.pkl\n",
      "Metrics saved to results/metrics_20241021_095651.txt\n",
      "Feature importance plot saved to results/feature_importances.png\n"
     ]
    }
   ],
   "source": [
    "!python main.py"
   ]
  }
 ],
 "metadata": {
  "kernelspec": {
   "display_name": "ad_exchange_pred",
   "language": "python",
   "name": "python3"
  },
  "language_info": {
   "codemirror_mode": {
    "name": "ipython",
    "version": 3
   },
   "file_extension": ".py",
   "mimetype": "text/x-python",
   "name": "python",
   "nbconvert_exporter": "python",
   "pygments_lexer": "ipython3",
   "version": "3.9.20"
  }
 },
 "nbformat": 4,
 "nbformat_minor": 2
}
